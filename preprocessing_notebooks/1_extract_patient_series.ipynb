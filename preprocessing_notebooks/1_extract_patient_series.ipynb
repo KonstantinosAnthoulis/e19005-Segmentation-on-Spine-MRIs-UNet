{
 "cells": [
  {
   "cell_type": "markdown",
   "metadata": {},
   "source": [
    "### PREPROCESSING 1 \n",
    "\n",
    "Each patient series in the dataset is comprised of these possible images:\n",
    "    t1/t2 image only\n",
    "    t1 and t2 pair\n",
    "    t1 t2 and t2_space images \n",
    "\n",
    "We want the model to be unbiased towards either t1 or t2. This first step will only give us the series with\n",
    "    #both t1 and t2 images excl space\n",
    "\n",
    "# DO NOT DELETE THE ORIGINAL DATASET FILES\n",
    "## Uploading them takes a lot of time and we can easily recreate the segmentation dataset from the original files "
   ]
  },
  {
   "cell_type": "code",
   "execution_count": 2,
   "metadata": {},
   "outputs": [],
   "source": [
    "#Dependencies\n",
    "import SimpleITK as sitk \n",
    "import pathlib\n",
    "import os \n",
    "from natsort import natsorted\n",
    "import shutil \n",
    "from tqdm import tqdm"
   ]
  },
  {
   "cell_type": "markdown",
   "metadata": {},
   "source": [
    "Set path prefix"
   ]
  },
  {
   "cell_type": "code",
   "execution_count": 3,
   "metadata": {},
   "outputs": [],
   "source": [
    "path_prefix = \"/home/kanthoulis/spider/dataset/\""
   ]
  },
  {
   "cell_type": "markdown",
   "metadata": {},
   "source": [
    "Original Dataset paths <br>\n",
    "The raw dataset as taken from the Grand Challenge page"
   ]
  },
  {
   "cell_type": "code",
   "execution_count": 4,
   "metadata": {},
   "outputs": [],
   "source": [
    "images_dir = pathlib.Path(path_prefix + \"original dataset backup/images\")\n",
    "labels_dir = pathlib.Path(path_prefix + \"original dataset backup/labels\") #change paths accordingly in jhub "
   ]
  },
  {
   "cell_type": "markdown",
   "metadata": {},
   "source": [
    "Paths to export the images without the excluded cases"
   ]
  },
  {
   "cell_type": "code",
   "execution_count": 5,
   "metadata": {},
   "outputs": [],
   "source": [
    "images_series_dir = pathlib.Path(path_prefix + \"images_series\")\n",
    "labels_series_dir = pathlib.Path(path_prefix + \"labels_series\") #change paths accordingly in jhub "
   ]
  },
  {
   "cell_type": "markdown",
   "metadata": {},
   "source": [
    "Lists & Lengths inspect"
   ]
  },
  {
   "cell_type": "code",
   "execution_count": 6,
   "metadata": {},
   "outputs": [
    {
     "name": "stdout",
     "output_type": "stream",
     "text": [
      "images dset length 447\n",
      "masks dset length 447\n"
     ]
    }
   ],
   "source": [
    "#Get lists of full dset\n",
    "images_dir_list = os.listdir(images_dir)\n",
    "labels_dir_list = os.listdir(labels_dir)\n",
    "\n",
    "#Sort lists to make sure we get the correct pairs every time and that we're not going through the dset randomly \n",
    "images_dir_list = natsorted(images_dir_list)\n",
    "labels_dir_list = natsorted(labels_dir_list)\n",
    "\n",
    "#Print lengths to make sure they're the same and see how many 3D images we have \n",
    "    #as well as to make sure they're the same length\n",
    "print(\"images dset length\", len(images_dir_list))\n",
    "print(\"masks dset length\", len(labels_dir_list))"
   ]
  },
  {
   "cell_type": "markdown",
   "metadata": {},
   "source": [
    "Iterate through the dataset and remove patient series that <br>\n",
    "- aren't pairs of T1 and T2 images <br>\n",
    "- any T2_SPACE images for dataset homogeny <br>"
   ]
  },
  {
   "cell_type": "code",
   "execution_count": 7,
   "metadata": {},
   "outputs": [
    {
     "name": "stderr",
     "output_type": "stream",
     "text": [
      "Processing images: 100%|██████████| 447/447 [00:11<00:00, 40.34image/s]"
     ]
    },
    {
     "name": "stdout",
     "output_type": "stream",
     "text": [
      "total SPACE images excluded 41\n",
      "total t1 images excluded 20\n",
      "total t2 images excluded 6\n"
     ]
    },
    {
     "name": "stderr",
     "output_type": "stream",
     "text": [
      "\n"
     ]
    }
   ],
   "source": [
    "#Some metrics to count how many images we've excluded from our final dset\n",
    "space_excl_count = 0 \n",
    "t1_excl_count = 0\n",
    "t2_excl_count = 0\n",
    "\n",
    "#If same, comb through the dataset \n",
    "dirlen = len(images_dir_list)\n",
    "\n",
    "for idx in tqdm(range(0, dirlen), desc=\"Processing images\", unit=\"image\"):\n",
    "    \n",
    "    #print(idx)\n",
    "\n",
    "    #Get image paths in directory\n",
    "    img_path = images_dir.joinpath(images_dir_list[idx])    \n",
    "    label_path = labels_dir.joinpath(labels_dir_list[idx]) \n",
    "\n",
    "    #if the file name has SPACE in it, skip it since we're excluding SPACE images due to resolution\n",
    "    if(\"SPACE\" in img_path.name):\n",
    "        space_excl_count = space_excl_count + 1\n",
    "        continue \n",
    "\n",
    "    #if image without its t1/t2 counterpart also skip over\n",
    "\n",
    "    #first split the file name at character _ to get series no and t1 or t2 separately \n",
    "    filename_split = images_dir_list[idx].split('_')\n",
    "\n",
    "    #if the image is t1 without t2 counterpart \n",
    "    if(\"t1\" in filename_split[1]):\n",
    "        if((filename_split[0] + \"_t2.mha\") not in images_dir_list):\n",
    "            t2_excl_count = t2_excl_count + 1\n",
    "            continue \n",
    "    else: #if t2 without t1 counterpart \n",
    "        if((filename_split[0] + \"_t1.mha\") not in images_dir_list):\n",
    "            t1_excl_count = t1_excl_count + 1\n",
    "            continue  \n",
    "\n",
    "    #if we are here in the loop it means the idx is at a t1-t2 pair \n",
    "    #write the pair of mha images to directory \n",
    "    image_sitk = sitk.ReadImage(img_path)\n",
    "    label_sitk = sitk.ReadImage(label_path)\n",
    "\n",
    "    sitk.WriteImage(image_sitk, images_series_dir.joinpath(images_dir_list[idx]))\n",
    "    sitk.WriteImage(label_sitk, labels_series_dir.joinpath(labels_dir_list[idx]))\n",
    "    \n",
    "\n",
    "print(\"total SPACE images excluded\", space_excl_count)\n",
    "print(\"total t1 images excluded\", t1_excl_count)\n",
    "print(\"total t2 images excluded\", t2_excl_count)"
   ]
  },
  {
   "cell_type": "code",
   "execution_count": null,
   "metadata": {},
   "outputs": [],
   "source": []
  }
 ],
 "metadata": {
  "kernelspec": {
   "display_name": "jupyter-venv",
   "language": "python",
   "name": "jupyter-venv"
  },
  "language_info": {
   "codemirror_mode": {
    "name": "ipython",
    "version": 3
   },
   "file_extension": ".py",
   "mimetype": "text/x-python",
   "name": "python",
   "nbconvert_exporter": "python",
   "pygments_lexer": "ipython3",
   "version": "3.12.3"
  }
 },
 "nbformat": 4,
 "nbformat_minor": 4
}
