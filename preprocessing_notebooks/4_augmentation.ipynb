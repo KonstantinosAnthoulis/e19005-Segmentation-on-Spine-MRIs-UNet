{
 "cells": [
  {
   "cell_type": "markdown",
   "id": "d09ada92-66c2-4002-a89f-1134e1337c89",
   "metadata": {},
   "source": [
    "Dependencies"
   ]
  },
  {
   "cell_type": "code",
   "execution_count": 1,
   "id": "f4e2a681-33fd-4668-a4bb-53eb7e9a8e7a",
   "metadata": {},
   "outputs": [
    {
     "name": "stderr",
     "output_type": "stream",
     "text": [
      "/home/kanthoulis/jupyter-venv/lib/python3.12/site-packages/albumentations/__init__.py:24: UserWarning: A new version of Albumentations is available: 1.4.24 (you have 1.4.23). Upgrade using: pip install -U albumentations. To disable automatic update checks, set the environment variable NO_ALBUMENTATIONS_UPDATE to 1.\n",
      "  check_for_updates()\n"
     ]
    }
   ],
   "source": [
    "# Dependencies \n",
    "import albumentations as A\n",
    "import SimpleITK as sitk\n",
    "import numpy as np\n",
    "import pathlib \n",
    "import os \n",
    "import sys\n",
    "from natsort import natsorted\n",
    "#import matplotlib.pyplot as plt\n",
    "import shutil\n",
    "from tqdm import tqdm"
   ]
  },
  {
   "cell_type": "markdown",
   "id": "f1f27b67-9a4e-4c32-827e-2a03a34ba855",
   "metadata": {},
   "source": [
    "Paths"
   ]
  },
  {
   "cell_type": "code",
   "execution_count": 6,
   "id": "4cc3a042-c799-4bc8-ae7b-a9eb847bb6f6",
   "metadata": {},
   "outputs": [],
   "source": [
    "path_prefix = \"/home/kanthoulis/spider/dataset/\"\n",
    "\n",
    "train_img_slice_dir = pathlib.Path(path_prefix + \"train_image_slices\")\n",
    "train_label_slice_dir = pathlib.Path(path_prefix + \"train_label_slices\")\n",
    "\n",
    "# Test directory to write in \n",
    "#train_img_augmented_slice_dir = pathlib.Path(r\"D:/Spider Data/train_image_augmented_slices\")\n",
    "#train_label_augmented_slice_dir = pathlib.Path(r\"D:/Spider Data/train_label_augmented_slices\")\n",
    "\n",
    "train_img_augmented_slice_dir = pathlib.Path(path_prefix + \"train_augmented_image_slices\")\n",
    "train_label_augmented_slice_dir = pathlib.Path(path_prefix + \"train_augmented_label_slices\")\n",
    "\n",
    "# Get lists of the files in the directories \n",
    "image_train_dir_list = os.listdir(train_img_slice_dir) \n",
    "label_train_dir_list = os.listdir(train_label_slice_dir)\n",
    "\n",
    "# Sort lists just to be safe\n",
    "image_train_dir_list = natsorted(image_train_dir_list)\n",
    "label_train_dir_list = natsorted(label_train_dir_list)\n",
    "\n",
    "train_len = len(image_train_dir_list)\n",
    "test_len = len(label_train_dir_list)\n",
    "\n",
    "'''\n",
    "if (train_len != test_len):\n",
    "    print(\"Error: Directories aren't of equal size\")\n",
    "    sys.exit()\n",
    "'''\n",
    "    \n",
    "dirlen = train_len"
   ]
  },
  {
   "cell_type": "markdown",
   "id": "7f743a80-3702-44ef-80a7-272bcd9f1440",
   "metadata": {},
   "source": [
    "Augmentation Parameters"
   ]
  },
  {
   "cell_type": "code",
   "execution_count": 7,
   "id": "6c71babb-751a-4fb6-8786-1b0e30a4612d",
   "metadata": {},
   "outputs": [
    {
     "data": {
      "text/plain": [
       "'\\n\\n# Define the augmentation pipeline for the image\\nnoise_transform = A.Compose([\\n    A.GaussNoise(var_limit=(0.002, 0.05), mean=0, p=1)  # Gaussian Noise  \\n])\\n\\n# Define the elastic transform pipeline\\nelastic_transform = A.ElasticTransform(alpha=25, sigma=4, p=1)\\n'"
      ]
     },
     "execution_count": 7,
     "metadata": {},
     "output_type": "execute_result"
    }
   ],
   "source": [
    "# Set number of augmented images to generate per image \n",
    "# also applies for flipped so in total you get 2 x augmented_no instances per image \n",
    "augmented_no = 4\n",
    "\n",
    "# Define the augmentation pipeline for the image\n",
    "noise_transform = A.Compose([\n",
    "    A.GaussNoise(var_limit=(10, 30), mean=0, p=0.8)  # Gaussian Noise  \n",
    "])\n",
    "\n",
    "# Define the elastic transform pipeline\n",
    "elastic_transform = A.ElasticTransform(alpha=50, sigma=10, p=0.8)\n",
    "\"\"\"\n",
    "\n",
    "# Define the augmentation pipeline for the image\n",
    "noise_transform = A.Compose([\n",
    "    A.GaussNoise(var_limit=(0.002, 0.05), mean=0, p=1)  # Gaussian Noise  \n",
    "])\n",
    "\n",
    "# Define the elastic transform pipeline\n",
    "elastic_transform = A.ElasticTransform(alpha=25, sigma=4, p=1)\n",
    "\"\"\""
   ]
  },
  {
   "cell_type": "markdown",
   "id": "aaddb7e1-9b2b-4de4-ae32-c259b8dfd48b",
   "metadata": {},
   "source": [
    "Augmentation of slices and saving to new directories "
   ]
  },
  {
   "cell_type": "code",
   "execution_count": 8,
   "id": "ab07b332-359b-4bf2-869e-cb287813ef6f",
   "metadata": {},
   "outputs": [
    {
     "name": "stderr",
     "output_type": "stream",
     "text": [
      "Augmenting training set: 100%|██████████| 11484/11484 [06:37<00:00, 28.87image/s]\n"
     ]
    }
   ],
   "source": [
    "# Loop through each image in the training set\n",
    "for idx in tqdm(range(0, dirlen), desc=\"Augmenting training set\", unit=\"image\"):\n",
    "    # Paths to the current image and label\n",
    "    image_path = train_img_slice_dir.joinpath(image_train_dir_list[idx])\n",
    "    label_path = train_label_slice_dir.joinpath(label_train_dir_list[idx])\n",
    "\n",
    "    # Read the image and label using SimpleITK\n",
    "    image_sitk = sitk.ReadImage(image_path)\n",
    "    label_sitk = sitk.ReadImage(label_path)\n",
    "\n",
    "    # Convert the images to NumPy arrays for processing\n",
    "    image_np = sitk.GetArrayFromImage(image_sitk).astype(np.float32)\n",
    "    label_np = sitk.GetArrayFromImage(label_sitk)\n",
    "\n",
    "    # Apply augmentations and generate the augmented images\n",
    "    for aug_idx in range(augmented_no):\n",
    "        # Normalize the image before applying Gaussian noise\n",
    "        image_min = np.min(image_np)\n",
    "        image_max = np.max(image_np)\n",
    "\n",
    "        # Normalize the image, handling edge cases where image_max == image_min\n",
    "        if image_max != image_min:\n",
    "            image_normalised_np = (image_np - image_min) / (image_max - image_min)\n",
    "        else:\n",
    "            image_normalised_np = np.zeros_like(image_np)  # Default to zero array\n",
    "\n",
    "        # Apply elastic deformation to both the image and the label\n",
    "        # This ensures that both the image and its corresponding label are deformed similarly\n",
    "        elastic_result = elastic_transform(image=image_np, mask=label_np)\n",
    "        image_deformed_np = elastic_result[\"image\"]\n",
    "        label_deformed_np = elastic_result[\"mask\"]\n",
    "\n",
    "        # Apply Gaussian noise only to the image after deformation\n",
    "        noise_result = noise_transform(image=image_deformed_np)\n",
    "        image_augmented_np = noise_result[\"image\"]\n",
    "\n",
    "        # Revert normalization to restore the original intensity range of the image\n",
    "        image_augmented_np = np.clip(image_augmented_np, 0, 1)  # Ensure values are within [0, 1]\n",
    "        image_augmented_np = image_augmented_np * (image_max - image_min) + image_min\n",
    "\n",
    "        # Convert the augmented image and label back to SimpleITK format\n",
    "        image_augmented_sitk = sitk.GetImageFromArray(image_augmented_np)\n",
    "        label_deformed_sitk = sitk.GetImageFromArray(label_deformed_np)\n",
    "\n",
    "        # Prepare filenames for saving augmented images and labels\n",
    "        input_path_split = image_train_dir_list[idx].split(\".\")\n",
    "        pre = input_path_split[0]  # '1_t1_0'\n",
    "        post = input_path_split[1]  # File extension (e.g., '.mha')\n",
    "\n",
    "        # Create a unique identifier for the augmented files\n",
    "        pre_img = pre + \"_\" + str(aug_idx)\n",
    "        augmented_filename = pre_img + \".\" + post\n",
    "\n",
    "        # Paths for saving augmented images and labels\n",
    "        image_augmented_path = train_img_augmented_slice_dir.joinpath(augmented_filename)\n",
    "        label_augmented_path = train_label_augmented_slice_dir.joinpath(augmented_filename)\n",
    "\n",
    "        # Save the augmented image and label\n",
    "        sitk.WriteImage(image_augmented_sitk, image_augmented_path)\n",
    "        sitk.WriteImage(label_deformed_sitk, label_augmented_path)\n"
   ]
  }
 ],
 "metadata": {
  "kernelspec": {
   "display_name": "jupyter-venv",
   "language": "python",
   "name": "jupyter-venv"
  },
  "language_info": {
   "codemirror_mode": {
    "name": "ipython",
    "version": 3
   },
   "file_extension": ".py",
   "mimetype": "text/x-python",
   "name": "python",
   "nbconvert_exporter": "python",
   "pygments_lexer": "ipython3",
   "version": "3.12.3"
  }
 },
 "nbformat": 4,
 "nbformat_minor": 5
}
