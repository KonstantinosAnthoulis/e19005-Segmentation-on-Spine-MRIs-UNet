{
 "cells": [
  {
   "cell_type": "markdown",
   "id": "5fb442e4-2a2f-464e-bec9-dc88e66c064c",
   "metadata": {},
   "source": [
    "Add directories to PATH"
   ]
  },
  {
   "cell_type": "code",
   "execution_count": 1,
   "id": "d77e8f91-440c-4d65-a5f4-a07350ba4413",
   "metadata": {},
   "outputs": [],
   "source": [
    "import sys\n",
    "import os\n",
    "\n",
    "path_prefix = \"/home/kanthoulis/spider/\"\n",
    "\n",
    "training_scripts_dir = path_prefix + \"training\"\n",
    "transforms_dir = path_prefix + \"transforms\"\n",
    "image_dir = path_prefix + \"image\"\n",
    "\n",
    "sys.path.append(training_scripts_dir)\n",
    "sys.path.append(transforms_dir)\n",
    "sys.path.append(image_dir)\n"
   ]
  },
  {
   "cell_type": "markdown",
   "id": "fbe4bc14-42a4-418c-a041-110ca5dc875d",
   "metadata": {},
   "source": [
    "Dependencies"
   ]
  },
  {
   "cell_type": "code",
   "execution_count": 2,
   "id": "c69ed972-50df-4707-b164-7c66169aba46",
   "metadata": {},
   "outputs": [],
   "source": [
    "#Dependencies\n",
    "import SimpleITK as sitk\n",
    "import torch \n",
    "import torch.nn as nn\n",
    "import numpy as np\n",
    "import pathlib\n",
    "import os\n",
    "from natsort import natsorted\n",
    "import json\n",
    "import time \n",
    "from tqdm import tqdm\n",
    "\n",
    "import tensor_transforms\n",
    "import mri_slice\n",
    "import one_hot"
   ]
  },
  {
   "cell_type": "markdown",
   "id": "5e9f3933-8f77-4c6b-8a9f-61326268d2ed",
   "metadata": {},
   "source": [
    "Load tensor_data.json"
   ]
  },
  {
   "cell_type": "code",
   "execution_count": 3,
   "id": "e7eb185f-dce6-49cb-80cb-f4412ade3d90",
   "metadata": {},
   "outputs": [
    {
     "name": "stdout",
     "output_type": "stream",
     "text": [
      "576\n",
      "576\n",
      "20\n"
     ]
    }
   ],
   "source": [
    "#Load tensor parameters from .json\n",
    "\n",
    "json_path = \"/home/kanthoulis/spider/tensor_data/tensor_data.json\"\n",
    "with open(json_path, 'r') as file:\n",
    "    data = json.load(file)\n",
    "\n",
    "# Assign each value to a variable\n",
    "row_max = data[\"row_max\"]\n",
    "col_max = data[\"col_max\"]\n",
    "image_tensor_min = data[\"image_tensor_min\"]\n",
    "image_tensor_max = data[\"image_tensor_max\"]\n",
    "label_tensor_min = data[\"label_tensor_min\"]\n",
    "label_tensor_max = data[\"label_tensor_max\"]\n",
    "masks_no = data[\"masks_no\"]\n",
    "masks_array = data[\"masks_array\"]\n",
    "\n",
    "value_map = one_hot.value_map(masks_no = masks_no, masks_array= masks_array)\n",
    "print(row_max)\n",
    "print(col_max)\n",
    "print(masks_no)"
   ]
  },
  {
   "cell_type": "markdown",
   "id": "8c3f590e-56e8-46cc-aceb-784b2ab0554a",
   "metadata": {},
   "source": [
    "Paths"
   ]
  },
  {
   "cell_type": "code",
   "execution_count": 4,
   "id": "858636ce-c041-45d7-b9b0-1514c1e25ee2",
   "metadata": {},
   "outputs": [
    {
     "name": "stdout",
     "output_type": "stream",
     "text": [
      "11484\n",
      "3197\n"
     ]
    }
   ],
   "source": [
    "path_prefix = \"/home/kanthoulis/spider/dataset/\"\n",
    "\n",
    "#train_images = pathlib.Path(path_prefix + \"train_augmented_image_slices\")\n",
    "#train_labels = pathlib.Path(path_prefix + \"train_augmented_label_slices\")\n",
    "train_images = pathlib.Path(path_prefix + \"train_image_slices\")\n",
    "train_labels = pathlib.Path(path_prefix + \"train_label_slices\")\n",
    "test_images = pathlib.Path(path_prefix + \"test_image_slices\")\n",
    "test_images = pathlib.Path(path_prefix + \"test_image_slices\")\n",
    "test_labels = pathlib.Path(path_prefix + \"test_label_slices\")\n",
    "\n",
    "train_image_numpy = pathlib.Path(path_prefix + \"train_image_numpy\")\n",
    "train_label_numpy = pathlib.Path(path_prefix + \"train_label_numpy\")\n",
    "test_image_numpy = pathlib.Path(path_prefix + \"test_image_numpy\")\n",
    "test_label_numpy =  pathlib.Path(path_prefix + \"test_label_numpy\")\n",
    "\n",
    "train_images_sitk_list = os.listdir(train_images)\n",
    "train_labels_sitk_list = os.listdir(train_labels)\n",
    "test_images_sitk_list = os.listdir(test_images)\n",
    "test_labels_sitk_list = os.listdir(test_labels)\n",
    "\n",
    "train_images_sitk_list = natsorted(train_images_sitk_list)\n",
    "train_labels_sitk_list = natsorted(train_labels_sitk_list)\n",
    "test_images_sitk_list = natsorted(test_images_sitk_list)\n",
    "test_labels_sitk_list = natsorted(test_labels_sitk_list)\n",
    "\n",
    "print(len(train_images_sitk_list))\n",
    "print(len(test_images_sitk_list))"
   ]
  },
  {
   "cell_type": "code",
   "execution_count": 5,
   "id": "b78978c8-c645-42f6-b6fe-7f8cd7b4b3b7",
   "metadata": {},
   "outputs": [
    {
     "name": "stderr",
     "output_type": "stream",
     "text": [
      "Processing training images: 100%|██████████| 11484/11484 [00:19<00:00, 583.98image/s]\n",
      "Processing training labels: 100%|██████████| 11484/11484 [00:19<00:00, 578.16label/s]\n",
      "Processing test images and labels: 100%|██████████| 3197/3197 [00:14<00:00, 224.20test/s]\n"
     ]
    }
   ],
   "source": [
    "# Loop for processing images\n",
    "for idx in tqdm(range(0, len(train_images_sitk_list)), desc=\"Processing training images\", unit=\"image\"):\n",
    "    img_path = train_images.joinpath(train_images_sitk_list[idx])\n",
    "    numpy_filename = train_images_sitk_list[idx].split('.')[0]\n",
    "\n",
    "    #print(\"Processing image:\", numpy_filename)\n",
    "\n",
    "    # Load the image and get the image array\n",
    "    image = mri_slice.Mri_Slice(img_path)\n",
    "    image_a = image.hu_a\n",
    "\n",
    "    # Save the processed image tensor\n",
    "    image_numpy_path = train_image_numpy.joinpath(f\"{numpy_filename}.npy\")\n",
    "    np.save(image_numpy_path, image_a)\n",
    "\n",
    "\n",
    "# Loop for processing labels\n",
    "for idx in tqdm(range(0, len(train_labels_sitk_list)), desc=\"Processing training labels\", unit=\"label\"):\n",
    "    label_path = train_labels.joinpath(train_labels_sitk_list[idx])\n",
    "    numpy_filename = train_labels_sitk_list[idx].split('.')[0]\n",
    "\n",
    "    #print(\"Processing label:\", numpy_filename)\n",
    "\n",
    "    # Load the label and get the label array\n",
    "    label = mri_slice.Mri_Slice(label_path)\n",
    "    label_a = label.hu_a\n",
    "\n",
    "    # Save the processed label tensor\n",
    "    label_numpy_path = train_label_numpy.joinpath(f\"{numpy_filename}.npy\")\n",
    "    np.save(label_numpy_path, label_a)\n",
    "\n",
    "\n",
    "\n",
    "# Test set\n",
    "for idx in tqdm(range(0, len(test_images_sitk_list)), desc=\"Processing test images and labels\", unit=\"test\"):\n",
    "    img_path = test_images.joinpath(test_images_sitk_list[idx])\n",
    "    label_path = test_labels.joinpath(test_labels_sitk_list[idx])\n",
    "\n",
    "    numpy_filename = test_images_sitk_list[idx].split('.')[0]\n",
    "\n",
    "    #print(\"label\", numpy_filename)\n",
    "\n",
    "    image = mri_slice.Mri_Slice(img_path)\n",
    "    label = mri_slice.Mri_Slice(label_path)\n",
    "\n",
    "    image_a = image.hu_a\n",
    "    label_a = label.hu_a\n",
    "\n",
    "    image_numpy_path = test_image_numpy.joinpath(f\"{numpy_filename}.npy\")\n",
    "    label_numpy_path = test_label_numpy.joinpath(f\"{numpy_filename}.npy\")\n",
    "\n",
    "    #print(image_numpy_path)\n",
    "    np.save(image_numpy_path, image_a)\n",
    "    np.save(label_numpy_path, label_a)\n"
   ]
  },
  {
   "cell_type": "code",
   "execution_count": null,
   "id": "5bd8ec9b-224f-455b-bf50-ca3766716ca3",
   "metadata": {},
   "outputs": [],
   "source": []
  },
  {
   "cell_type": "code",
   "execution_count": null,
   "id": "2c8c681f-4b68-437a-bbb7-319559cb89ce",
   "metadata": {},
   "outputs": [],
   "source": []
  }
 ],
 "metadata": {
  "kernelspec": {
   "display_name": "jupyter-venv",
   "language": "python",
   "name": "jupyter-venv"
  },
  "language_info": {
   "codemirror_mode": {
    "name": "ipython",
    "version": 3
   },
   "file_extension": ".py",
   "mimetype": "text/x-python",
   "name": "python",
   "nbconvert_exporter": "python",
   "pygments_lexer": "ipython3",
   "version": "3.12.3"
  }
 },
 "nbformat": 4,
 "nbformat_minor": 5
}
