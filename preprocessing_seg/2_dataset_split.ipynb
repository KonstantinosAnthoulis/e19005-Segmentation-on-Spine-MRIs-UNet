{
 "cells": [
  {
   "cell_type": "markdown",
   "id": "b4a59eaf-ec6a-442f-824a-4e0b4f4cfaaa",
   "metadata": {},
   "source": [
    "Dependencies"
   ]
  },
  {
   "cell_type": "code",
   "execution_count": 9,
   "id": "c94a7723-4038-49ed-8371-47f42fc50339",
   "metadata": {},
   "outputs": [],
   "source": [
    "import SimpleITK as sitk\n",
    "import natsort\n",
    "import pathlib\n",
    "import os\n",
    "import shutil\n",
    "import random\n",
    "from tqdm import tqdm\n",
    "from sklearn.model_selection import train_test_split"
   ]
  },
  {
   "cell_type": "markdown",
   "id": "85b5bae5-923c-4ef2-9706-a14d250a1851",
   "metadata": {},
   "source": [
    "Paths"
   ]
  },
  {
   "cell_type": "code",
   "execution_count": 3,
   "id": "0a238215-c7eb-4ad9-bced-9a27cf6067bc",
   "metadata": {},
   "outputs": [
    {
     "name": "stdout",
     "output_type": "stream",
     "text": [
      "full image dir len 380\n"
     ]
    }
   ],
   "source": [
    "path_prefix = \"/home/kanthoulis/spider/dataset/\"\n",
    "\n",
    "full_image_dir = pathlib.Path(path_prefix + \"images_series\")\n",
    "full_label_dir = pathlib.Path(path_prefix + \"labels_series\")\n",
    "#Directories to copy to\n",
    "#train_image_path = pathlib.Path(r\"D:/Spider Data/train_images\")\n",
    "#train_label_path = pathlib.Path(r\"D:/Spider Data/train_labels\")\n",
    "#test_image_path = pathlib.Path(r\"D:/Spider Data/test_images\")\n",
    "#test_label_path = pathlib.Path(r\"D:/Spider Data/test_labels\")\n",
    "\n",
    "#laptop\n",
    "train_image_path = pathlib.Path(path_prefix + \"train_images\")\n",
    "train_label_path = pathlib.Path(path_prefix + \"train_labels\")\n",
    "test_image_path = pathlib.Path(path_prefix + \"test_images\")\n",
    "test_label_path = pathlib.Path(path_prefix + \"test_labels\")\n",
    "\n",
    "full_image_dir_list = os.listdir(full_image_dir)\n",
    "full_label_dir_list = os.listdir(full_label_dir)\n",
    "\n",
    "print(\"full image dir len\", len(full_image_dir_list))"
   ]
  },
  {
   "cell_type": "markdown",
   "id": "bdc799cf-764a-499f-9cdd-36446c753a40",
   "metadata": {},
   "source": [
    "Get patient ID from filename <br>\n",
    "Last number of file name is patient series"
   ]
  },
  {
   "cell_type": "code",
   "execution_count": 7,
   "id": "a253ade2-0af2-4a8f-8bd2-a235714b2c8d",
   "metadata": {},
   "outputs": [],
   "source": [
    "def get_patient_id(filename):\n",
    "    return filename.split('_')[0]\n"
   ]
  },
  {
   "cell_type": "markdown",
   "id": "7d6ef49d-e71f-45a0-8df2-d40382a9ffb9",
   "metadata": {},
   "source": [
    "80-20 split of the images <br>\n",
    "<b> Note: </b> We are applying the dataset split now instead of after extracting the 2d slices from the MRI files to ensure <br>\n",
    "each patient series only belongs in either training or test data, not both "
   ]
  },
  {
   "cell_type": "code",
   "execution_count": 8,
   "id": "008daae0-baee-4e5d-90ba-ea76ca016142",
   "metadata": {},
   "outputs": [],
   "source": [
    "# Get list of image filenames\n",
    "image_files = os.listdir(full_image_dir)\n",
    "\n",
    "# Split filenames into train and validation sets based on patient IDs\n",
    "patient_ids = [get_patient_id(filename) for filename in image_files]\n",
    "unique_patient_ids = list(set(patient_ids))\n",
    "train_patient_ids, valid_patient_ids = train_test_split(unique_patient_ids, test_size=0.2, random_state=46)"
   ]
  },
  {
   "cell_type": "markdown",
   "id": "63d260c6-3f4f-48fe-8a85-fcb06786e0ef",
   "metadata": {},
   "source": [
    "Copy the split to separate directories"
   ]
  },
  {
   "cell_type": "code",
   "execution_count": 11,
   "id": "2ba70785-153b-417a-ace8-b0a778f34fbe",
   "metadata": {},
   "outputs": [
    {
     "name": "stderr",
     "output_type": "stream",
     "text": [
      "Copying images and masks: 100%|██████████| 380/380 [00:10<00:00, 37.66file/s]\n"
     ]
    }
   ],
   "source": [
    "# Copy images and masks to train or test directories\n",
    "for filename in tqdm(image_files, desc=\"Copying images and masks\", unit=\"file\"):\n",
    "    patient_id = get_patient_id(filename)\n",
    "    is_train = patient_id in train_patient_ids\n",
    "    source_image_path = os.path.join(full_image_dir, filename)\n",
    "    source_mask_path = os.path.join(full_label_dir, filename)  # Assuming mask filenames are same as image filenames\n",
    "\n",
    "    if is_train:\n",
    "        destination_image_path = os.path.join(train_image_path, filename)\n",
    "        destination_mask_path = os.path.join(train_label_path, filename)\n",
    "    else:\n",
    "        destination_image_path = os.path.join(test_image_path, filename)\n",
    "        destination_mask_path = os.path.join(test_label_path, filename)\n",
    "\n",
    "    shutil.copy(source_image_path, destination_image_path)\n",
    "    shutil.copy(source_mask_path, destination_mask_path)"
   ]
  },
  {
   "cell_type": "markdown",
   "id": "826186a8-4040-4533-adaa-22970fca7adc",
   "metadata": {},
   "source": [
    "Delete original directories for cleanup"
   ]
  },
  {
   "cell_type": "code",
   "execution_count": 12,
   "id": "1ae51586-f318-4ec6-87d2-5ec04db6debf",
   "metadata": {},
   "outputs": [
    {
     "name": "stdout",
     "output_type": "stream",
     "text": [
      "Deleted folder: /home/kanthoulis/spider/dataset/images_series\n",
      "Deleted folder: /home/kanthoulis/spider/dataset/labels_series\n"
     ]
    }
   ],
   "source": [
    "#Delete folders after processing to avoid cluttering disk space\n",
    "if full_image_dir.exists() and full_image_dir.is_dir():\n",
    "    shutil.rmtree(full_image_dir)\n",
    "    print(f\"Deleted folder: {full_image_dir}\")\n",
    "else:\n",
    "    print(f\"Folder not found or already deleted: {full_image_dir}\")\n",
    "\n",
    "if full_label_dir.exists() and full_label_dir.is_dir():\n",
    "    shutil.rmtree(full_label_dir)\n",
    "    print(f\"Deleted folder: {full_label_dir}\")\n",
    "else:\n",
    "    print(f\"Folder not found or already deleted: {full_label_dir}\")"
   ]
  },
  {
   "cell_type": "code",
   "execution_count": null,
   "id": "5f4ce0cc-7dc3-4229-99a3-5d84ec42c392",
   "metadata": {},
   "outputs": [],
   "source": []
  }
 ],
 "metadata": {
  "kernelspec": {
   "display_name": "jupyter-venv",
   "language": "python",
   "name": "jupyter-venv"
  },
  "language_info": {
   "codemirror_mode": {
    "name": "ipython",
    "version": 3
   },
   "file_extension": ".py",
   "mimetype": "text/x-python",
   "name": "python",
   "nbconvert_exporter": "python",
   "pygments_lexer": "ipython3",
   "version": "3.12.3"
  }
 },
 "nbformat": 4,
 "nbformat_minor": 5
}
