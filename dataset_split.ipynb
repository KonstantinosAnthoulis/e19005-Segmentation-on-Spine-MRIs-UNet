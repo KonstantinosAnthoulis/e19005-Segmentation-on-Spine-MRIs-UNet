{
 "cells": [
  {
   "cell_type": "markdown",
   "metadata": {},
   "source": [
    "Dependencies"
   ]
  },
  {
   "cell_type": "code",
   "execution_count": 1,
   "metadata": {},
   "outputs": [],
   "source": [
    "import SimpleITK as sitk\n",
    "import natsort\n",
    "import pathlib\n",
    "import os\n",
    "import shutil\n",
    "import random\n",
    "from sklearn.model_selection import train_test_split\n"
   ]
  },
  {
   "cell_type": "markdown",
   "metadata": {},
   "source": [
    "Directories\n"
   ]
  },
  {
   "cell_type": "code",
   "execution_count": 2,
   "metadata": {},
   "outputs": [
    {
     "name": "stdout",
     "output_type": "stream",
     "text": [
      "full image dir len 16462\n"
     ]
    }
   ],
   "source": [
    "#Full \n",
    "full_image_path = pathlib.Path(r\"D:/Spider Slice Directories/voxel spacing bspline full images\")\n",
    "full_label_path = pathlib.Path(r\"D:/Spider Slice Directories/voxel spacing bspline full labels\")\n",
    "#Directories to copy to\n",
    "train_image_path = pathlib.Path(r\"D:/Spider Slice Directories/image_train\")\n",
    "train_label_path = pathlib.Path(r\"D:/Spider Slice Directories/label_train\")\n",
    "test_image_path = pathlib.Path(r\"D:/Spider Slice Directories/image_test\")\n",
    "test_label_path = pathlib.Path(r\"D:/Spider Slice Directories/label_test\")\n",
    "\n",
    "full_image_dir_list = os.listdir(full_image_path)\n",
    "full_label_dir_list = os.listdir(full_label_path)\n",
    "\n",
    "print(\"full image dir len\", len(full_image_dir_list))\n",
    "\n",
    "\n"
   ]
  },
  {
   "cell_type": "markdown",
   "metadata": {},
   "source": [
    "Split & Copy to dir"
   ]
  },
  {
   "cell_type": "code",
   "execution_count": 6,
   "metadata": {},
   "outputs": [],
   "source": [
    "# Function to get patient IDs from filenames\n",
    "def get_patient_id(filename):\n",
    "    return filename.split('_')[0]\n",
    "\n",
    "\n",
    "# Get list of image filenames\n",
    "image_files = os.listdir(full_image_path)\n",
    "\n",
    "# Split filenames into train and validation sets based on patient IDs\n",
    "patient_ids = [get_patient_id(filename) for filename in image_files]\n",
    "unique_patient_ids = list(set(patient_ids))\n",
    "train_patient_ids, valid_patient_ids = train_test_split(unique_patient_ids, test_size=0.2, random_state=46)\n",
    "\n",
    "\n",
    "\n",
    "\n",
    "# Copy images and masks to train or test directories\n",
    "for filename in image_files:\n",
    "    patient_id = get_patient_id(filename)\n",
    "    is_train = patient_id in train_patient_ids\n",
    "    source_image_path = os.path.join(full_image_path, filename)\n",
    "    source_mask_path = os.path.join(full_label_path, filename)  # Assuming mask filenames are same as image filenames\n",
    "\n",
    "    if is_train:\n",
    "        destination_image_path = os.path.join(train_image_path, filename)\n",
    "        destination_mask_path = os.path.join(train_label_path, filename)\n",
    "    else:\n",
    "        destination_image_path = os.path.join(test_image_path, filename)\n",
    "        destination_mask_path = os.path.join(test_label_path, filename)\n",
    "\n",
    "    shutil.copy(source_image_path, destination_image_path)\n",
    "    shutil.copy(source_mask_path, destination_mask_path)\n",
    "    \n"
   ]
  },
  {
   "cell_type": "markdown",
   "metadata": {},
   "source": [
    "Copy slices to the corresponding directories "
   ]
  }
 ],
 "metadata": {
  "kernelspec": {
   "display_name": "spider-torch-tb",
   "language": "python",
   "name": "python3"
  },
  "language_info": {
   "codemirror_mode": {
    "name": "ipython",
    "version": 3
   },
   "file_extension": ".py",
   "mimetype": "text/x-python",
   "name": "python",
   "nbconvert_exporter": "python",
   "pygments_lexer": "ipython3",
   "version": "3.11.7"
  }
 },
 "nbformat": 4,
 "nbformat_minor": 2
}
