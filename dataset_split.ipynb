{
 "cells": [
  {
   "cell_type": "markdown",
   "metadata": {},
   "source": [
    "Dependencies"
   ]
  },
  {
   "cell_type": "code",
   "execution_count": 5,
   "metadata": {},
   "outputs": [],
   "source": [
    "import SimpleITK as sitk\n",
    "import natsort\n",
    "import pathlib\n",
    "import os"
   ]
  },
  {
   "cell_type": "markdown",
   "metadata": {},
   "source": [
    "Directories\n"
   ]
  },
  {
   "cell_type": "code",
   "execution_count": 6,
   "metadata": {},
   "outputs": [
    {
     "name": "stdout",
     "output_type": "stream",
     "text": [
      "full image dir len 16462\n"
     ]
    }
   ],
   "source": [
    "#Full \n",
    "full_image_path = pathlib.Path(r\"D:/Spider Slice Directories/voxel spacing bspline full images\")\n",
    "full_label_path = pathlib.Path(r\"D:/Spider Slice Directories/voxel spacing bspline full labels\")\n",
    "#Directories to copy to\n",
    "train_image_path = pathlib.Path(r\"D:/Spider Slice Directories/image_train\")\n",
    "train_label_path = pathlib.Path(r\"D:/Spider Slice Directories/label_train\")\n",
    "test_image_path = pathlib.Path(r\"D:/Spider Slice Directories/image_test\")\n",
    "test_label_path = pathlib.Path(r\"D:/Spider Slice Directories/label_test\")\n",
    "\n",
    "full_image_dir_list = os.listdir(full_image_path)\n",
    "full_label_dir_list = os.listdir(full_label_path)\n",
    "\n",
    "print(\"full image dir len\", len(full_image_dir_list))\n",
    "\n",
    "\n"
   ]
  },
  {
   "cell_type": "markdown",
   "metadata": {},
   "source": [
    "Train Test Split Percentages 80 20"
   ]
  },
  {
   "cell_type": "code",
   "execution_count": null,
   "metadata": {},
   "outputs": [],
   "source": [
    "#TODO percentages"
   ]
  },
  {
   "cell_type": "markdown",
   "metadata": {},
   "source": [
    "Copy slices to the corresponding directories "
   ]
  },
  {
   "cell_type": "code",
   "execution_count": 8,
   "metadata": {},
   "outputs": [],
   "source": [
    "#TODO find template for creating train test splits and modify it for mha \n",
    "#Keep in mind images from the same patient (eg 12_1_t1 and 12_5_t2) must be in the SAME dataset either train or test "
   ]
  }
 ],
 "metadata": {
  "kernelspec": {
   "display_name": "spider-torch-tb",
   "language": "python",
   "name": "python3"
  },
  "language_info": {
   "codemirror_mode": {
    "name": "ipython",
    "version": 3
   },
   "file_extension": ".py",
   "mimetype": "text/x-python",
   "name": "python",
   "nbconvert_exporter": "python",
   "pygments_lexer": "ipython3",
   "version": "3.11.7"
  }
 },
 "nbformat": 4,
 "nbformat_minor": 2
}
