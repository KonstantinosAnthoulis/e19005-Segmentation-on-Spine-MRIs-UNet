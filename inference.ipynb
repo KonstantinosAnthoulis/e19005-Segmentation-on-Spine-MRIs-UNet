{
 "cells": [
  {
   "cell_type": "markdown",
   "metadata": {},
   "source": [
    "Dependencies"
   ]
  },
  {
   "cell_type": "code",
   "execution_count": 1,
   "metadata": {},
   "outputs": [],
   "source": [
    "import SimpleITK as sitk"
   ]
  },
  {
   "cell_type": "markdown",
   "metadata": {},
   "source": [
    "Load Model"
   ]
  },
  {
   "cell_type": "code",
   "execution_count": null,
   "metadata": {},
   "outputs": [],
   "source": [
    "#model = model from directory in repo "
   ]
  },
  {
   "cell_type": "markdown",
   "metadata": {},
   "source": [
    "Test MRI "
   ]
  },
  {
   "cell_type": "code",
   "execution_count": 3,
   "metadata": {},
   "outputs": [
    {
     "name": "stdout",
     "output_type": "stream",
     "text": [
      "Image (00000220929D6580)\n",
      "  RTTI typeinfo:   class itk::Image<short,3>\n",
      "  Reference Count: 1\n",
      "  Modified Time: 1856\n",
      "  Debug: Off\n",
      "  Object Name: \n",
      "  Observers: \n",
      "    none\n",
      "  Source: (none)\n",
      "  Source output name: (none)\n",
      "  Release Data: Off\n",
      "  Data Released: False\n",
      "  Global Release Data: Off\n",
      "  PipelineMTime: 1826\n",
      "  UpdateMTime: 1852\n",
      "  RealTimeStamp: 0 seconds \n",
      "  LargestPossibleRegion: \n",
      "    Dimension: 3\n",
      "    Index: [0, 0, 0]\n",
      "    Size: [15, 320, 320]\n",
      "  BufferedRegion: \n",
      "    Dimension: 3\n",
      "    Index: [0, 0, 0]\n",
      "    Size: [15, 320, 320]\n",
      "  RequestedRegion: \n",
      "    Dimension: 3\n",
      "    Index: [0, 0, 0]\n",
      "    Size: [15, 320, 320]\n",
      "  Spacing: [4.8, 1.0625, 1.0625]\n",
      "  Origin: [-1495.12, -170, -129.26]\n",
      "  Direction: \n",
      "1 0 0\n",
      "0 1 0\n",
      "0 0 1\n",
      "\n",
      "  IndexToPointMatrix: \n",
      "4.8 0 0\n",
      "0 1.0625 0\n",
      "0 0 1.0625\n",
      "\n",
      "  PointToIndexMatrix: \n",
      "0.208333 0 0\n",
      "0 0.941176 0\n",
      "0 0 0.941176\n",
      "\n",
      "  Inverse Direction: \n",
      "1 0 0\n",
      "0 1 0\n",
      "0 0 1\n",
      "\n",
      "  PixelContainer: \n",
      "    ImportImageContainer (00000220921EE0E0)\n",
      "      RTTI typeinfo:   class itk::ImportImageContainer<unsigned __int64,short>\n",
      "      Reference Count: 1\n",
      "      Modified Time: 1849\n",
      "      Debug: Off\n",
      "      Object Name: \n",
      "      Observers: \n",
      "        none\n",
      "      Pointer: 00000220940C3040\n",
      "      Container manages memory: true\n",
      "      Size: 1536000\n",
      "      Capacity: 1536000\n",
      "\n"
     ]
    }
   ],
   "source": [
    "in_mha = sitk.ReadImage(\"out_inference/132_t1.mha\")\n",
    "print(in_mha)"
   ]
  }
 ],
 "metadata": {
  "kernelspec": {
   "display_name": "pytorch-medical-tb",
   "language": "python",
   "name": "python3"
  },
  "language_info": {
   "codemirror_mode": {
    "name": "ipython",
    "version": 3
   },
   "file_extension": ".py",
   "mimetype": "text/x-python",
   "name": "python",
   "nbconvert_exporter": "python",
   "pygments_lexer": "ipython3",
   "version": "3.11.8"
  }
 },
 "nbformat": 4,
 "nbformat_minor": 2
}
