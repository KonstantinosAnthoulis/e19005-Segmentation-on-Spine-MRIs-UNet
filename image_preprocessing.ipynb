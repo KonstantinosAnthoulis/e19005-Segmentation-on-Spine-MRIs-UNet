{
 "cells": [
  {
   "cell_type": "markdown",
   "metadata": {},
   "source": [
    "Get images and save them independently as 2D slices"
   ]
  },
  {
   "cell_type": "markdown",
   "metadata": {},
   "source": [
    "Dependencies"
   ]
  },
  {
   "cell_type": "code",
   "execution_count": 6,
   "metadata": {},
   "outputs": [
    {
     "name": "stdout",
     "output_type": "stream",
     "text": [
      "Using cuda device\n"
     ]
    }
   ],
   "source": [
    "import torch\n",
    "import torchvision\n",
    "from torch import nn\n",
    "from torch.utils.data import DataLoader\n",
    "from torchvision import datasets\n",
    "from torch.utils.data import Dataset\n",
    "from torchvision.transforms import ToTensor\n",
    "\n",
    "import matplotlib.pyplot as plt\n",
    "from matplotlib.widgets import Slider, Button, RadioButtons\n",
    "\n",
    "import scipy\n",
    "\n",
    "import SimpleITK as sitk\n",
    "reader = sitk.ImageFileReader()\n",
    "reader.SetImageIO(\"MetaImageIO\")\n",
    "\n",
    "import numpy as np\n",
    "\n",
    "import os\n",
    "\n",
    "import pathlib\n",
    "\n",
    "from natsort import natsorted\n",
    "\n",
    "#Set GPU/Cuda Device to run model on\n",
    "device = (\n",
    "    \"cuda\"\n",
    "    if torch.cuda.is_available()\n",
    "    else \"mps\"\n",
    "    if torch.backends.mps.is_available()\n",
    "    else \"cpu\"\n",
    ")\n",
    "print(f\"Using {device} device\")\n",
    "\n",
    "np.random.seed(46)"
   ]
  },
  {
   "cell_type": "markdown",
   "metadata": {},
   "source": [
    "Dataset Directories"
   ]
  },
  {
   "cell_type": "code",
   "execution_count": 7,
   "metadata": {},
   "outputs": [],
   "source": [
    "#Toy Dataset Directory from Spider | Grand Challenge \n",
    "dummy_train_img_dir = pathlib.Path(r\"spider_toy_dset/dummy_train_images\")\n",
    "dummy_train_label_dir = pathlib.Path(r\"spider_toy_dset/dummy_train_labels\")\n",
    "dummy_test_img_dir = pathlib.Path(r\"spider_toy_dset/dummy_test_images\")\n",
    "dummy_test_label_dir= pathlib.Path(r\"spider_toy_dset/dummy_test_labels\")"
   ]
  },
  {
   "cell_type": "markdown",
   "metadata": {},
   "source": [
    "Image Class, Returns 3D Array"
   ]
  },
  {
   "cell_type": "code",
   "execution_count": 8,
   "metadata": {},
   "outputs": [],
   "source": [
    "from transforms import mri_transforms\n",
    "\n",
    "\n",
    "#TODO add bool image label for interp \n",
    "class Mri:\n",
    "    def __init__(self, path):\n",
    "        mri_mha = sitk.ReadImage(path, imageIO = \"MetaImageIO\") #explicitly setting ioreader just in case\n",
    "        \n",
    "       #TODO use sitk permute to change dimensions to 2 0 1 to help with going through slices for interpolating in 2d\n",
    "        if(mri_mha.GetSize()[0] > mri_mha.GetSize()[1] or mri_mha.GetSize()[0] > mri_mha.GetSize()[2]): #if z axis isn't first\n",
    "          mri_mha = sitk.PermuteAxes(mri_mha, (2, 0, 1))\n",
    "          \n",
    "        #get 3d array from mri\n",
    "        mri_a = np.array(sitk.GetArrayFromImage(mri_mha)) #mri_array\n",
    "\n",
    "        #transpose array to format z x y or z y x \n",
    "        if(mri_a.shape[0] > mri_a.shape[1] or mri_a.shape[0] > mri_a.shape[2]): #if z axis isn't first\n",
    "          mri_a = np.transpose(mri_a, (2, 0, 1))\n",
    "\n",
    "        '''\n",
    "        if(mri_a.shape[2] > mri_a.shape[1]): #bring images to vertical orientation\n",
    "          mri_a = np.transpose(mri_a, (0, 2, 1))\n",
    "        '''\n",
    "      \n",
    "        mri_a_float32 = mri_a.astype(dtype = np.float32)\n",
    "        #TODO: set bounds to [-1000, 2000] https://en.wikipedia.org/wiki/Hounsfield_scale\n",
    "        self.hu_a = mri_a_float32"
   ]
  },
  {
   "cell_type": "markdown",
   "metadata": {},
   "source": [
    "Sort Directories"
   ]
  },
  {
   "cell_type": "code",
   "execution_count": 9,
   "metadata": {},
   "outputs": [
    {
     "name": "stdout",
     "output_type": "stream",
     "text": [
      "44\n"
     ]
    }
   ],
   "source": [
    "#get lists from directories\n",
    "\n",
    "#toy dset \n",
    "\n",
    "label_dir_list = os.listdir(dummy_train_label_dir)\n",
    "image_dir_list = os.listdir(dummy_train_img_dir) \n",
    "\n",
    "#local dset\n",
    "'''\n",
    "image_dir_list = os.listdir(local_img_idr)\n",
    "label_dir_list = os.listdir(local_label_dir)\n",
    "'''\n",
    "#sort lists\n",
    "image_dir_list = natsorted(image_dir_list)\n",
    "label_dir_list = natsorted(label_dir_list)\n",
    "#empty lists to hold x and y dimensions of images\n",
    "row_list = []\n",
    "col_list = []\n",
    "\n",
    "#dirlen = len(os.listdir(dummy_train_label_dir))\n",
    "dirlen = len(os.listdir(dummy_train_label_dir))\n",
    "\n",
    "print(dirlen)\n",
    "\n",
    "#print(local_label_idr)\n"
   ]
  },
  {
   "cell_type": "markdown",
   "metadata": {},
   "source": [
    "Testing on single image\n"
   ]
  },
  {
   "cell_type": "code",
   "execution_count": 34,
   "metadata": {},
   "outputs": [
    {
     "name": "stdout",
     "output_type": "stream",
     "text": [
      "(50, 578, 448)\n",
      "1_t1\n",
      "_0.mha\n",
      "1_t1_0.mha\n",
      "spider_toy_dset_slices\\dummy_train_img_slices\\1_t1_0.mha\n"
     ]
    }
   ],
   "source": [
    "img_path = dummy_train_img_dir.joinpath(image_dir_list[0])\n",
    "test_mri = Mri(img_path)\n",
    "print(test_mri.hu_a.shape)\n",
    "\n",
    "test_slice_arr = test_mri.hu_a[25, : ,:]\n",
    "#print(test_slice_arr.shape)\n",
    "\n",
    "test_slice_sitk = sitk.GetImageFromArray(test_slice_arr)\n",
    "#print(test_slice_sitk)\n",
    "\n",
    "dir_split = image_dir_list[0].split(\".\") #splits 1_t1.mha to 1_1 and .mha\n",
    "pre = dir_split[0]\n",
    "print(pre)\n",
    "\n",
    "post = \"_\" + str(0) + \".\" + dir_split[1]\n",
    "print(post)\n",
    "\n",
    "dir_path = pre + post\n",
    "print(dir_path)\n",
    "\n",
    "file_path = pathlib.Path(r\"spider_toy_dset_slices/dummy_train_img_slices\")\n",
    "\n",
    "full_path = file_path.joinpath(dir_path)\n",
    "\n",
    "print(full_path)\n",
    "\n",
    "sitk.WriteImage(test_slice_sitk, full_path)"
   ]
  },
  {
   "cell_type": "markdown",
   "metadata": {},
   "source": [
    "Remove slices with 0 label value and save the remaining slices in a new directory"
   ]
  },
  {
   "cell_type": "code",
   "execution_count": 19,
   "metadata": {},
   "outputs": [
    {
     "name": "stdout",
     "output_type": "stream",
     "text": [
      "1_t1.mha\n",
      "<class 'str'>\n",
      "1_t2.mha\n",
      "<class 'str'>\n",
      "2_t1.mha\n",
      "<class 'str'>\n",
      "2_t2.mha\n",
      "<class 'str'>\n",
      "3_t1.mha\n",
      "<class 'str'>\n",
      "3_t2.mha\n",
      "<class 'str'>\n",
      "4_t1.mha\n",
      "<class 'str'>\n",
      "4_t2.mha\n",
      "<class 'str'>\n",
      "5_t1.mha\n",
      "<class 'str'>\n",
      "5_t2.mha\n",
      "<class 'str'>\n",
      "7_t1.mha\n",
      "<class 'str'>\n",
      "7_t2.mha\n",
      "<class 'str'>\n",
      "8_t1.mha\n",
      "<class 'str'>\n",
      "8_t2.mha\n",
      "<class 'str'>\n",
      "9_t1.mha\n",
      "<class 'str'>\n",
      "9_t2.mha\n",
      "<class 'str'>\n",
      "11_t1.mha\n",
      "<class 'str'>\n",
      "11_t2.mha\n",
      "<class 'str'>\n",
      "12_t1.mha\n",
      "<class 'str'>\n",
      "12_t2.mha\n",
      "<class 'str'>\n",
      "13_t1.mha\n",
      "<class 'str'>\n",
      "13_t2.mha\n",
      "<class 'str'>\n",
      "15_t1.mha\n",
      "<class 'str'>\n",
      "15_t2.mha\n",
      "<class 'str'>\n",
      "16_t1.mha\n",
      "<class 'str'>\n",
      "16_t2.mha\n",
      "<class 'str'>\n",
      "17_t1.mha\n",
      "<class 'str'>\n",
      "17_t2.mha\n",
      "<class 'str'>\n",
      "18_t1.mha\n",
      "<class 'str'>\n",
      "18_t2.mha\n",
      "<class 'str'>\n",
      "19_t1.mha\n",
      "<class 'str'>\n",
      "19_t2.mha\n",
      "<class 'str'>\n",
      "22_t1.mha\n",
      "<class 'str'>\n",
      "22_t2.mha\n",
      "<class 'str'>\n",
      "23_t1.mha\n",
      "<class 'str'>\n",
      "23_t2.mha\n",
      "<class 'str'>\n",
      "24_t1.mha\n",
      "<class 'str'>\n",
      "24_t2.mha\n",
      "<class 'str'>\n",
      "25_t1.mha\n",
      "<class 'str'>\n",
      "25_t2.mha\n",
      "<class 'str'>\n",
      "28_t1.mha\n",
      "<class 'str'>\n",
      "28_t2.mha\n",
      "<class 'str'>\n",
      "29_t1.mha\n",
      "<class 'str'>\n",
      "29_t2.mha\n",
      "<class 'str'>\n",
      "row max: 899\n",
      "col max: 514\n"
     ]
    }
   ],
   "source": [
    "from transforms import array_transforms\n",
    "\n",
    "for idx in range(0, dirlen):\n",
    "  #print(\"dirlen\", dirlen)\n",
    "  \n",
    " #toy dset \n",
    "  \n",
    "  img_path = dummy_train_img_dir.joinpath(image_dir_list[idx])\n",
    "  label_path = dummy_train_label_dir.joinpath(label_dir_list[idx])#first part before joinpath is pathlib.Path, second part is the directory of the file \n",
    "\n",
    "  print(image_dir_list[idx])\n",
    "  print(type(image_dir_list[idx]))\n",
    "\n",
    "  '''\n",
    "  img_path = local_img_idr.joinpath(image_dir_list[idx])\n",
    "  label_path = local_label_dir.joinpath(label_dir_list[idx]) #first part before joinpath is pathlib.Path, second part is the directory of the file \n",
    "  '''\n",
    "  image = Mri(img_path)\n",
    "  label = Mri(label_path)\n",
    "  \n",
    "\n",
    "  #print(\"before\", label.hu_a.shape)\n",
    "  #remove empty slices\n",
    "  image_a, label_a = array_transforms.remove_empty_slices(image.hu_a, label.hu_a)\n",
    "\n",
    "  \n",
    "  #going to apply cropping to another point once the slices are ready\n",
    "  '''  \n",
    "  #zero crop\n",
    "  image_a, label_a = array_transforms.crop_zero(image_a, label_a)\n",
    "  '''\n",
    "  '''\n",
    "  if(image_a.shape[1] > 600): #if image way too high res\n",
    "    print(\"high res image in directory\", img_path)\n",
    "  '''\n",
    "  #print(\"label after: \", label_a.shape)\n",
    "  \n",
    "  row_list.append(image_a.shape[1]) #add x value to list\n",
    "  col_list.append(image_a.shape[2]) #add y value to list \n",
    "\n",
    "  \n",
    "#calculate max \n",
    "row_dim_max = max(row_list)\n",
    "col_dim_max = max(col_list)\n",
    "\n",
    "print(\"row max:\", max(row_list))\n",
    "print(\"col max:\", max(col_list))\n",
    "\n",
    "\n",
    "\n"
   ]
  }
 ],
 "metadata": {
  "kernelspec": {
   "display_name": "pytorch-medical",
   "language": "python",
   "name": "python3"
  },
  "language_info": {
   "codemirror_mode": {
    "name": "ipython",
    "version": 3
   },
   "file_extension": ".py",
   "mimetype": "text/x-python",
   "name": "python",
   "nbconvert_exporter": "python",
   "pygments_lexer": "ipython3",
   "version": "3.11.4"
  }
 },
 "nbformat": 4,
 "nbformat_minor": 2
}
