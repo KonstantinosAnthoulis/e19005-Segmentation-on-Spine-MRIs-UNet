{
 "cells": [
  {
   "cell_type": "markdown",
   "metadata": {},
   "source": [
    "Get images and save them independently as 2D slices"
   ]
  },
  {
   "cell_type": "markdown",
   "metadata": {},
   "source": [
    "Dependencies"
   ]
  },
  {
   "cell_type": "code",
   "execution_count": 3,
   "metadata": {},
   "outputs": [],
   "source": [
    "'''\n",
    "import torch\n",
    "import torchvision\n",
    "from torch import nn\n",
    "from torch.utils.data import DataLoader\n",
    "from torchvision import datasets\n",
    "from torch.utils.data import Dataset\n",
    "from torchvision.transforms import ToTensor\n",
    "\n",
    "import matplotlib.pyplot as plt\n",
    "from matplotlib.widgets import Slider, Button, RadioButtons\n",
    "\n",
    "import scipy\n",
    "'''\n",
    "import SimpleITK as sitk\n",
    "reader = sitk.ImageFileReader()\n",
    "reader.SetImageIO(\"MetaImageIO\")\n",
    "\n",
    "import numpy as np\n",
    "\n",
    "import os\n",
    "\n",
    "import pathlib\n",
    "\n",
    "from natsort import natsorted\n",
    "\n",
    "'''\n",
    "#Set GPU/Cuda Device to run model on\n",
    "device = (\n",
    "    \"cuda\"\n",
    "    if torch.cuda.is_available()\n",
    "    else \"mps\"\n",
    "    if torch.backends.mps.is_available()\n",
    "    else \"cpu\"\n",
    ")\n",
    "print(f\"Using {device} device\")\n",
    "'''\n",
    "np.random.seed(46)"
   ]
  },
  {
   "cell_type": "markdown",
   "metadata": {},
   "source": [
    "Dataset Directories"
   ]
  },
  {
   "cell_type": "code",
   "execution_count": 4,
   "metadata": {},
   "outputs": [],
   "source": [
    "#Toy Dataset Directory from Spider | Grand Challenge \n",
    "dummy_train_img_dir = pathlib.Path(r\"spider_toy_dset/dummy_train_images\")\n",
    "dummy_train_label_dir = pathlib.Path(r\"spider_toy_dset/dummy_train_labels\")\n",
    "dummy_test_img_dir = pathlib.Path(r\"spider_toy_dset/dummy_test_images\")\n",
    "dummy_test_label_dir= pathlib.Path(r\"spider_toy_dset/dummy_test_labels\")"
   ]
  },
  {
   "cell_type": "markdown",
   "metadata": {},
   "source": [
    "Image Class, Returns 3D Array"
   ]
  },
  {
   "cell_type": "code",
   "execution_count": 14,
   "metadata": {},
   "outputs": [],
   "source": [
    "from transforms import mri_transforms\n",
    "\n",
    "\n",
    "#TODO add bool image label for interp \n",
    "class Mri:\n",
    "    def __init__(self, path, is_label, is_train_set):\n",
    "        mri_mha = sitk.ReadImage(path, imageIO = \"MetaImageIO\") #explicitly setting ioreader just in case\n",
    "        \n",
    "\n",
    "        '''\n",
    "        #resampling voxel spacing\n",
    "        if(is_train_set):\n",
    "          mri_mha = mri_transforms.resample_img(mri_mha, out_spacing= [2.0, 0.6, 0.6], is_label=is_label) #resample T/F \n",
    "      \n",
    "         '''\n",
    "        #get 3d array from mri\n",
    "        mri_a = np.array(sitk.GetArrayFromImage(mri_mha)) #mri_array\n",
    "\n",
    "        #transpose array to format z x y \n",
    "        #note: for some reason sitk.GetArrayFromImage() takes an image with dims [slice index, row, col] and transforms it to[row, col, slice index]\n",
    "        #this bit of code solves that issue, not sure why it happens but this is enough to make sure all the images are of format [slice, row, col]\n",
    "        if(mri_a.shape[0] > mri_a.shape[1] or mri_a.shape[0] > mri_a.shape[2]): #if z axis isn't first\n",
    "          mri_a = np.transpose(mri_a, (2, 0, 1))\n",
    "        \n",
    "        \n",
    "        '''\n",
    "        if(mri_a.shape[2] > mri_a.shape[1]): #bring images to vertical orientation\n",
    "          mri_a = np.transpose(mri_a, (0, 2, 1))\n",
    "        '''\n",
    "      \n",
    "        mri_a_float32 = mri_a.astype(dtype = np.float32)\n",
    "        #TODO: set bounds to [-1000, 2000] https://en.wikipedia.org/wiki/Hounsfield_scale\n",
    "        self.hu_a = mri_a_float32"
   ]
  },
  {
   "cell_type": "markdown",
   "metadata": {},
   "source": [
    "Sort Directories"
   ]
  },
  {
   "cell_type": "code",
   "execution_count": 10,
   "metadata": {},
   "outputs": [
    {
     "name": "stdout",
     "output_type": "stream",
     "text": [
      "44\n"
     ]
    }
   ],
   "source": [
    "#get lists from directories\n",
    "\n",
    "#toy dset \n",
    "\n",
    "label_train_dir_list = os.listdir(dummy_train_label_dir)\n",
    "image_train_dir_list = os.listdir(dummy_train_img_dir) \n",
    "\n",
    "#local dset\n",
    "'''\n",
    "image_dir_list = os.listdir(local_img_idr)\n",
    "label_dir_list = os.listdir(local_label_dir)\n",
    "'''\n",
    "#sort lists\n",
    "image_train_dir_list = natsorted(image_train_dir_list)\n",
    "label_train_dir_list = natsorted(label_train_dir_list)\n",
    "#empty lists to hold x and y dimensions of images\n",
    "row_list = []\n",
    "col_list = []\n",
    "\n",
    "#dirlen = len(os.listdir(dummy_train_label_dir))\n",
    "dirlen = len(os.listdir(dummy_train_label_dir))\n",
    "\n",
    "print(dirlen)\n",
    "\n",
    "#print(local_label_idr)\n"
   ]
  },
  {
   "cell_type": "markdown",
   "metadata": {},
   "source": [
    "Slice Directories"
   ]
  },
  {
   "cell_type": "code",
   "execution_count": 11,
   "metadata": {},
   "outputs": [],
   "source": [
    "from transforms import array_transforms\n",
    "\n",
    "dummy_train_img_slice_dir = pathlib.Path(r\"spider_toy_dset_slices/dummy_train_img_slices\")\n",
    "dummy_train_label_slice_dir = pathlib.Path(r\"spider_toy_dset_slices/dummy_train_label_slices\")\n",
    "dummy_test_img_slice_dir = pathlib.Path(r\"spider_toy_dset_slices/dummy_test_img_slices\")\n",
    "dummy_test_label_slice_dir= pathlib.Path(r\"spider_toy_dset_slices/dummy_test_label_slices\")\n",
    "\n",
    "\n",
    "\n",
    "\n",
    "\n"
   ]
  },
  {
   "cell_type": "markdown",
   "metadata": {},
   "source": [
    "Remove slices with 0 label value and save the remaining slices in a new directory | TOY TRAIN SET <br>\n",
    "DON'T RUN UNLESS EMPTY DIRECTORIES FOR THE IMAGES ARE CREATED\n"
   ]
  },
  {
   "cell_type": "code",
   "execution_count": 13,
   "metadata": {},
   "outputs": [
    {
     "name": "stdout",
     "output_type": "stream",
     "text": [
      "last image shape (30, 578, 448)\n",
      "imaage path spider_toy_dset\\dummy_train_images\\1_t1.mha\n",
      "last image shape (30, 578, 448)\n",
      "imaage path spider_toy_dset\\dummy_train_images\\1_t2.mha\n",
      "last image shape (17, 294, 320)\n",
      "imaage path spider_toy_dset\\dummy_train_images\\2_t1.mha\n",
      "last image shape (17, 346, 384)\n",
      "imaage path spider_toy_dset\\dummy_train_images\\2_t2.mha\n",
      "last image shape (18, 389, 320)\n",
      "imaage path spider_toy_dset\\dummy_train_images\\3_t1.mha\n",
      "last image shape (17, 486, 384)\n",
      "imaage path spider_toy_dset\\dummy_train_images\\3_t2.mha\n",
      "last image shape (25, 553, 448)\n",
      "imaage path spider_toy_dset\\dummy_train_images\\4_t1.mha\n",
      "last image shape (25, 553, 448)\n",
      "imaage path spider_toy_dset\\dummy_train_images\\4_t2.mha\n",
      "last image shape (17, 512, 512)\n",
      "imaage path spider_toy_dset\\dummy_train_images\\5_t1.mha\n",
      "last image shape (17, 512, 512)\n",
      "imaage path spider_toy_dset\\dummy_train_images\\5_t2.mha\n",
      "last image shape (17, 512, 512)\n",
      "imaage path spider_toy_dset\\dummy_train_images\\7_t1.mha\n",
      "last image shape (17, 512, 512)\n",
      "imaage path spider_toy_dset\\dummy_train_images\\7_t2.mha\n",
      "last image shape (15, 384, 384)\n",
      "imaage path spider_toy_dset\\dummy_train_images\\8_t1.mha\n",
      "last image shape (15, 384, 384)\n",
      "imaage path spider_toy_dset\\dummy_train_images\\8_t2.mha\n",
      "last image shape (16, 464, 320)\n",
      "imaage path spider_toy_dset\\dummy_train_images\\9_t1.mha\n",
      "last image shape (16, 610, 384)\n",
      "imaage path spider_toy_dset\\dummy_train_images\\9_t2.mha\n",
      "last image shape (20, 590, 512)\n",
      "imaage path spider_toy_dset\\dummy_train_images\\11_t1.mha\n",
      "last image shape (19, 589, 512)\n",
      "imaage path spider_toy_dset\\dummy_train_images\\11_t2.mha\n",
      "last image shape (15, 320, 320)\n",
      "imaage path spider_toy_dset\\dummy_train_images\\12_t1.mha\n",
      "last image shape (15, 384, 384)\n",
      "imaage path spider_toy_dset\\dummy_train_images\\12_t2.mha\n",
      "last image shape (18, 748, 514)\n",
      "imaage path spider_toy_dset\\dummy_train_images\\13_t1.mha\n",
      "last image shape (18, 748, 513)\n",
      "imaage path spider_toy_dset\\dummy_train_images\\13_t2.mha\n",
      "last image shape (26, 899, 448)\n",
      "imaage path spider_toy_dset\\dummy_train_images\\15_t1.mha\n",
      "last image shape (26, 899, 448)\n",
      "imaage path spider_toy_dset\\dummy_train_images\\15_t2.mha\n",
      "last image shape (24, 448, 448)\n",
      "imaage path spider_toy_dset\\dummy_train_images\\16_t1.mha\n",
      "last image shape (24, 448, 448)\n",
      "imaage path spider_toy_dset\\dummy_train_images\\16_t2.mha\n",
      "last image shape (24, 495, 448)\n",
      "imaage path spider_toy_dset\\dummy_train_images\\17_t1.mha\n",
      "last image shape (24, 495, 448)\n",
      "imaage path spider_toy_dset\\dummy_train_images\\17_t2.mha\n",
      "last image shape (25, 512, 512)\n",
      "imaage path spider_toy_dset\\dummy_train_images\\18_t1.mha\n",
      "last image shape (25, 512, 512)\n",
      "imaage path spider_toy_dset\\dummy_train_images\\18_t2.mha\n",
      "last image shape (26, 351, 368)\n",
      "imaage path spider_toy_dset\\dummy_train_images\\19_t1.mha\n",
      "last image shape (26, 351, 368)\n",
      "imaage path spider_toy_dset\\dummy_train_images\\19_t2.mha\n",
      "last image shape (17, 512, 512)\n",
      "imaage path spider_toy_dset\\dummy_train_images\\22_t1.mha\n",
      "last image shape (17, 512, 512)\n",
      "imaage path spider_toy_dset\\dummy_train_images\\22_t2.mha\n",
      "last image shape (16, 323, 392)\n",
      "imaage path spider_toy_dset\\dummy_train_images\\23_t1.mha\n",
      "last image shape (16, 323, 392)\n",
      "imaage path spider_toy_dset\\dummy_train_images\\23_t2.mha\n",
      "last image shape (24, 344, 448)\n",
      "imaage path spider_toy_dset\\dummy_train_images\\24_t1.mha\n",
      "last image shape (24, 344, 448)\n",
      "imaage path spider_toy_dset\\dummy_train_images\\24_t2.mha\n",
      "last image shape (24, 462, 447)\n",
      "imaage path spider_toy_dset\\dummy_train_images\\25_t1.mha\n",
      "last image shape (24, 462, 447)\n",
      "imaage path spider_toy_dset\\dummy_train_images\\25_t2.mha\n",
      "last image shape (25, 600, 448)\n",
      "imaage path spider_toy_dset\\dummy_train_images\\28_t1.mha\n",
      "last image shape (25, 600, 448)\n",
      "imaage path spider_toy_dset\\dummy_train_images\\28_t2.mha\n",
      "last image shape (24, 402, 448)\n",
      "imaage path spider_toy_dset\\dummy_train_images\\29_t1.mha\n",
      "last image shape (24, 402, 448)\n",
      "imaage path spider_toy_dset\\dummy_train_images\\29_t2.mha\n"
     ]
    }
   ],
   "source": [
    "#train directories images to slices \n",
    "from transforms import array_transforms\n",
    "\n",
    "for idx in range(0, dirlen):\n",
    "  #print(\"dirlen\", dirlen)\n",
    "  \n",
    " #toy dset \n",
    "  \n",
    "  img_path = dummy_train_img_dir.joinpath(image_train_dir_list[idx])\n",
    "  label_path = dummy_train_label_dir.joinpath(label_train_dir_list[idx])#first part before joinpath is pathlib.Path, second part is the directory of the file \n",
    "\n",
    "  #print(image_train_dir_list[idx])\n",
    "  #print(type(image_train_dir_list[idx]))\n",
    "\n",
    "  '''\n",
    "  img_path = local_img_idr.joinpath(image_dir_list[idx])\n",
    "  label_path = local_label_dir.joinpath(label_dir_list[idx]) #first part before joinpath is pathlib.Path, second part is the directory of the file \n",
    "  '''\n",
    "  image = Mri(img_path, is_label= False, is_train_set= True)\n",
    "  label = Mri(label_path, is_label= True, is_train_set= True) #for resampling\n",
    "  \n",
    "  #print(\"hu_a dims\", image.hu_a.shape)\n",
    "\n",
    "  image_a = image.hu_a\n",
    "  label_a = label.hu_a\n",
    "\n",
    "  #print(\"last image shape before remove empty\", image_a.shape)\n",
    "\n",
    "  #remove empty slices\n",
    "  image_a, label_a = array_transforms.remove_empty_slices(image_a, label_a)\n",
    "\n",
    "  \n",
    "  '''\n",
    "  #zero crop\n",
    "  image_a, label_a = array_transforms.crop_zero(image_a, label_a)\n",
    "  '''\n",
    "  \n",
    "  #array_transforms.extract_slices(image_a, image_train_dir_list[idx], dummy_train_img_slice_dir) \n",
    "  #array_transforms.extract_slices(label_a, label_train_dir_list[idx], dummy_train_label_slice_dir) \n",
    "\n",
    "  #break #BREAK TESTING FOR 1 IMAGE\n",
    "\n",
    "  #TODO GET IMAGES FROM THE RIGHT AXIS SEE PRINTS  \n",
    "\n",
    "  #print(\"label after: \", label_a.shape)\n",
    "  \n",
    "\n"
   ]
  },
  {
   "cell_type": "markdown",
   "metadata": {},
   "source": [
    "Remove slices with 0 label value and save the remaining slices in a new directory | TOY TEST SET <br>\n",
    "DON'T RUN UNLESS EMPTY DIRECTORIES FOR IMAGES ARE CREATED"
   ]
  },
  {
   "cell_type": "code",
   "execution_count": 14,
   "metadata": {},
   "outputs": [
    {
     "name": "stdout",
     "output_type": "stream",
     "text": [
      "10\n"
     ]
    }
   ],
   "source": [
    "label_test_dir_list = os.listdir(dummy_test_label_dir)\n",
    "image_test_dir_list = os.listdir(dummy_test_img_dir) \n",
    "\n",
    "#local dset\n",
    "'''\n",
    "image_dir_list = os.listdir(local_img_idr)\n",
    "label_dir_list = os.listdir(local_label_dir)\n",
    "'''\n",
    "#sort lists\n",
    "image_train_dir_list = natsorted(image_test_dir_list)\n",
    "label_train_dir_list = natsorted(label_test_dir_list)\n",
    "\n",
    "dirlen = len(os.listdir(dummy_test_label_dir))\n",
    "\n",
    "print(dirlen)\n",
    "\n",
    "#train directories images to slices \n",
    "from transforms import array_transforms\n",
    "\n",
    "for idx in range(0, dirlen):\n",
    "  #print(\"dirlen\", dirlen)\n",
    "  \n",
    " #toy dset \n",
    "  \n",
    "  img_path = dummy_test_img_dir.joinpath(image_test_dir_list[idx])\n",
    "  label_path = dummy_test_label_dir.joinpath(label_test_dir_list[idx])#first part before joinpath is pathlib.Path, second part is the directory of the file \n",
    "\n",
    "  #print(image_train_dir_list[idx])\n",
    "  #print(type(image_train_dir_list[idx]))\n",
    "\n",
    "  image_test = Mri(img_path, is_label= False, is_train_set=False)\n",
    "  label_test = Mri(label_path, is_label= True, is_train_set= False)\n",
    "  \n",
    "  image_test_a = image_test.hu_a\n",
    "  label_test_a = label_test.hu_a\n",
    "\n",
    "  #no feature extraction on test set, leaving as is\n",
    "  \n",
    "  array_transforms.extract_slices(image_test_a, image_test_dir_list[idx], dummy_test_img_slice_dir) \n",
    "  array_transforms.extract_slices(label_test_a, label_test_dir_list[idx], dummy_test_label_slice_dir) \n",
    "\n",
    "  #print(\"label after: \", label_a.shape)\n",
    "  \n",
    "\n",
    "\n",
    "  \n",
    "\n",
    "\n",
    "\n",
    "\n"
   ]
  }
 ],
 "metadata": {
  "kernelspec": {
   "display_name": "pytorch-medical",
   "language": "python",
   "name": "python3"
  },
  "language_info": {
   "codemirror_mode": {
    "name": "ipython",
    "version": 3
   },
   "file_extension": ".py",
   "mimetype": "text/x-python",
   "name": "python",
   "nbconvert_exporter": "python",
   "pygments_lexer": "ipython3",
   "version": "3.11.4"
  }
 },
 "nbformat": 4,
 "nbformat_minor": 2
}
